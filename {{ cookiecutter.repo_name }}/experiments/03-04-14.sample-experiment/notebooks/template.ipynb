{
 "cells": [
  {
   "cell_type": "code",
   "execution_count": 2,
   "metadata": {},
   "outputs": [],
   "source": [
    "from __future__ import print_function\n",
    "\n",
    "%matplotlib inline\n",
    "import matplotlib.pyplot as plt\n",
    "\n",
    "import os\n",
    "os.chdir('../')\n",
    "\n",
    "import random\n",
    "rand_seed = 42\n",
    "random.seed(rand_seed)"
   ]
  },
  {
   "cell_type": "code",
   "execution_count": 3,
   "metadata": {},
   "outputs": [],
   "source": [
    "# Import packages\n",
    "import os\n",
    "\n",
    "# Set Globals\n",
    "USE_CACHE = False    # if False reproduces all needed data files\n",
    "ENV = {{ cookiecutter.subrepo_name }}  # conda environment being used "
   ]
  },
  {
   "cell_type": "code",
   "execution_count": 27,
   "metadata": {},
   "outputs": [],
   "source": [
    "# Global function definitions\n",
    "\n",
    "def dvc_run(dest, dvc_file, output_files=False, dependencies=False, command=False, env=ENV, use_cache=USE_CACHE):\n",
    "    \"\"\" Uses DVC to generate (or reproduce) and version data files from some bash command or script.\n",
    "\n",
    "    Args:\n",
    "        dest (str):             output file destination directory\n",
    "        dvc_file (str):         file name of dvc file to be tracked (without path)\n",
    "        output_files ([str]):   list of output files to be cached and version controlled\n",
    "        dependencies ([str]):   list of dependencies for command\n",
    "        command (str):          Bash command to run. If None, uses first dependency (eg. python script)\n",
    "        env (str):              Conda env to run in. Defaults to global variable ENV\n",
    "        use_cache (bool):       If False runs/reproduces command using DVC. Default is global variable USE_CACHE\n",
    "\n",
    "    Raises\n",
    "        KeyboardIterrupt: If  dvc_file doesn't have correct suffix\n",
    "    \"\"\"\n",
    "\n",
    "    if '.dvc' not in dvc_file:\n",
    "        raise KeyboardInterrupt('dvc_file not valid dvc file')\n",
    "    \n",
    "    # reproduce files if using cache\n",
    "    if USE_CACHE and os.path.isfile(dvc_file):\n",
    "        ! dvc repro {dvc_file}\n",
    "    \n",
    "    else: # this is first run\n",
    "        dvc_call = ['dvc run', '-f', dvc_file]\n",
    "        if output_files: dvc_call.extend(['-o ' + x for x in output_files])\n",
    "        if dependencies: dvc_call.extend(['-d ' + x for x in dependencies])\n",
    "        if command: dvc_call.append('\"'+command+'\"')\n",
    "        \n",
    "        ! (cd {dest}; \\\n",
    "        eval \"$(conda shell.bash hook)\"; \\\n",
    "        conda activate {env}; \\\n",
    "        {' '.join(dvc_call)}; \\\n",
    "        git add {dvc_file} .gitignore)"
   ]
  }
 ],
 "metadata": {
  "kernelspec": {
   "display_name": "ImmunoTyper Driver",
   "language": "python",
   "name": "immunotyper"
  },
  "language_info": {
   "codemirror_mode": {
    "name": "ipython",
    "version": 2
   },
   "file_extension": ".py",
   "mimetype": "text/x-python",
   "name": "python",
   "nbconvert_exporter": "python",
   "pygments_lexer": "ipython2",
   "version": "2.7.18"
  }
 },
 "nbformat": 4,
 "nbformat_minor": 4
}
